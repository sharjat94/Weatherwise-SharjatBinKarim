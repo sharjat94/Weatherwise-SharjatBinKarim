{
  "cells": [
    {
      "cell_type": "markdown",
      "metadata": {
        "id": "view-in-github",
        "colab_type": "text"
      },
      "source": [
        "<a href=\"https://colab.research.google.com/github/sharjat94/Weatherwise-SharjatBinKarim/blob/main/starter_notebook.ipynb\" target=\"_parent\"><img src=\"https://colab.research.google.com/assets/colab-badge.svg\" alt=\"Open In Colab\"/></a>"
      ]
    },
    {
      "cell_type": "markdown",
      "source": [
        "## Installing all the necessary Packages\n"
      ],
      "metadata": {
        "id": "3IiQtsM5BY7E"
      },
      "id": "3IiQtsM5BY7E"
    },
    {
      "cell_type": "code",
      "execution_count": 4,
      "id": "70c3f3f1",
      "metadata": {
        "id": "70c3f3f1",
        "colab": {
          "base_uri": "https://localhost:8080/"
        },
        "outputId": "eb5aa529-ab28-4bd5-90df-183afd6c9064"
      },
      "outputs": [
        {
          "output_type": "stream",
          "name": "stdout",
          "text": [
            "Requirement already satisfied: pyinputplus in /usr/local/lib/python3.12/dist-packages (0.2.12)\n",
            "Requirement already satisfied: pysimplevalidate>=0.2.7 in /usr/local/lib/python3.12/dist-packages (from pyinputplus) (0.2.12)\n",
            "Requirement already satisfied: stdiomask>=0.0.3 in /usr/local/lib/python3.12/dist-packages (from pyinputplus) (0.0.6)\n",
            "Requirement already satisfied: fetch-my-weather in /usr/local/lib/python3.12/dist-packages (0.4.0)\n",
            "Requirement already satisfied: requests>=2.25.0 in /usr/local/lib/python3.12/dist-packages (from fetch-my-weather) (2.32.4)\n",
            "Requirement already satisfied: pydantic>=1.8.0 in /usr/local/lib/python3.12/dist-packages (from fetch-my-weather) (2.11.10)\n",
            "Requirement already satisfied: annotated-types>=0.6.0 in /usr/local/lib/python3.12/dist-packages (from pydantic>=1.8.0->fetch-my-weather) (0.7.0)\n",
            "Requirement already satisfied: pydantic-core==2.33.2 in /usr/local/lib/python3.12/dist-packages (from pydantic>=1.8.0->fetch-my-weather) (2.33.2)\n",
            "Requirement already satisfied: typing-extensions>=4.12.2 in /usr/local/lib/python3.12/dist-packages (from pydantic>=1.8.0->fetch-my-weather) (4.15.0)\n",
            "Requirement already satisfied: typing-inspection>=0.4.0 in /usr/local/lib/python3.12/dist-packages (from pydantic>=1.8.0->fetch-my-weather) (0.4.2)\n",
            "Requirement already satisfied: charset_normalizer<4,>=2 in /usr/local/lib/python3.12/dist-packages (from requests>=2.25.0->fetch-my-weather) (3.4.4)\n",
            "Requirement already satisfied: idna<4,>=2.5 in /usr/local/lib/python3.12/dist-packages (from requests>=2.25.0->fetch-my-weather) (3.11)\n",
            "Requirement already satisfied: urllib3<3,>=1.21.1 in /usr/local/lib/python3.12/dist-packages (from requests>=2.25.0->fetch-my-weather) (2.5.0)\n",
            "Requirement already satisfied: certifi>=2017.4.17 in /usr/local/lib/python3.12/dist-packages (from requests>=2.25.0->fetch-my-weather) (2025.10.5)\n",
            "Requirement already satisfied: hands-on-ai in /usr/local/lib/python3.12/dist-packages (0.2.1)\n",
            "Requirement already satisfied: requests in /usr/local/lib/python3.12/dist-packages (from hands-on-ai) (2.32.4)\n",
            "Requirement already satisfied: typer in /usr/local/lib/python3.12/dist-packages (from hands-on-ai) (0.19.2)\n",
            "Requirement already satisfied: python-fasthtml in /usr/local/lib/python3.12/dist-packages (from hands-on-ai) (0.12.30)\n",
            "Requirement already satisfied: python-docx in /usr/local/lib/python3.12/dist-packages (from hands-on-ai) (1.2.0)\n",
            "Requirement already satisfied: pymupdf in /usr/local/lib/python3.12/dist-packages (from hands-on-ai) (1.26.5)\n",
            "Requirement already satisfied: scikit-learn in /usr/local/lib/python3.12/dist-packages (from hands-on-ai) (1.6.1)\n",
            "Requirement already satisfied: numpy in /usr/local/lib/python3.12/dist-packages (from hands-on-ai) (2.0.2)\n",
            "Requirement already satisfied: instructor>=1.11.0 in /usr/local/lib/python3.12/dist-packages (from hands-on-ai) (1.11.3)\n",
            "Requirement already satisfied: pydantic>=2.0 in /usr/local/lib/python3.12/dist-packages (from hands-on-ai) (2.11.10)\n",
            "Requirement already satisfied: aiohttp<4.0.0,>=3.9.1 in /usr/local/lib/python3.12/dist-packages (from instructor>=1.11.0->hands-on-ai) (3.13.0)\n",
            "Requirement already satisfied: diskcache>=5.6.3 in /usr/local/lib/python3.12/dist-packages (from instructor>=1.11.0->hands-on-ai) (5.6.3)\n",
            "Requirement already satisfied: docstring-parser<1.0,>=0.16 in /usr/local/lib/python3.12/dist-packages (from instructor>=1.11.0->hands-on-ai) (0.17.0)\n",
            "Requirement already satisfied: jinja2<4.0.0,>=3.1.4 in /usr/local/lib/python3.12/dist-packages (from instructor>=1.11.0->hands-on-ai) (3.1.6)\n",
            "Requirement already satisfied: jiter<0.11,>=0.6.1 in /usr/local/lib/python3.12/dist-packages (from instructor>=1.11.0->hands-on-ai) (0.10.0)\n",
            "Requirement already satisfied: openai<2.0.0,>=1.70.0 in /usr/local/lib/python3.12/dist-packages (from instructor>=1.11.0->hands-on-ai) (1.109.1)\n",
            "Requirement already satisfied: pydantic-core<3.0.0,>=2.18.0 in /usr/local/lib/python3.12/dist-packages (from instructor>=1.11.0->hands-on-ai) (2.33.2)\n",
            "Requirement already satisfied: rich<15.0.0,>=13.7.0 in /usr/local/lib/python3.12/dist-packages (from instructor>=1.11.0->hands-on-ai) (13.9.4)\n",
            "Requirement already satisfied: tenacity<10.0.0,>=8.2.3 in /usr/local/lib/python3.12/dist-packages (from instructor>=1.11.0->hands-on-ai) (8.5.0)\n",
            "Requirement already satisfied: annotated-types>=0.6.0 in /usr/local/lib/python3.12/dist-packages (from pydantic>=2.0->hands-on-ai) (0.7.0)\n",
            "Requirement already satisfied: typing-extensions>=4.12.2 in /usr/local/lib/python3.12/dist-packages (from pydantic>=2.0->hands-on-ai) (4.15.0)\n",
            "Requirement already satisfied: typing-inspection>=0.4.0 in /usr/local/lib/python3.12/dist-packages (from pydantic>=2.0->hands-on-ai) (0.4.2)\n",
            "Requirement already satisfied: charset_normalizer<4,>=2 in /usr/local/lib/python3.12/dist-packages (from requests->hands-on-ai) (3.4.4)\n",
            "Requirement already satisfied: idna<4,>=2.5 in /usr/local/lib/python3.12/dist-packages (from requests->hands-on-ai) (3.11)\n",
            "Requirement already satisfied: urllib3<3,>=1.21.1 in /usr/local/lib/python3.12/dist-packages (from requests->hands-on-ai) (2.5.0)\n",
            "Requirement already satisfied: certifi>=2017.4.17 in /usr/local/lib/python3.12/dist-packages (from requests->hands-on-ai) (2025.10.5)\n",
            "Requirement already satisfied: click>=8.0.0 in /usr/local/lib/python3.12/dist-packages (from typer->hands-on-ai) (8.3.0)\n",
            "Requirement already satisfied: shellingham>=1.3.0 in /usr/local/lib/python3.12/dist-packages (from typer->hands-on-ai) (1.5.4)\n",
            "Requirement already satisfied: lxml>=3.1.0 in /usr/local/lib/python3.12/dist-packages (from python-docx->hands-on-ai) (5.4.0)\n",
            "Requirement already satisfied: fastcore>=1.8.1 in /usr/local/lib/python3.12/dist-packages (from python-fasthtml->hands-on-ai) (1.8.12)\n",
            "Requirement already satisfied: python-dateutil in /usr/local/lib/python3.12/dist-packages (from python-fasthtml->hands-on-ai) (2.9.0.post0)\n",
            "Requirement already satisfied: starlette>0.33 in /usr/local/lib/python3.12/dist-packages (from python-fasthtml->hands-on-ai) (0.48.0)\n",
            "Requirement already satisfied: oauthlib in /usr/local/lib/python3.12/dist-packages (from python-fasthtml->hands-on-ai) (3.3.1)\n",
            "Requirement already satisfied: itsdangerous in /usr/local/lib/python3.12/dist-packages (from python-fasthtml->hands-on-ai) (2.2.0)\n",
            "Requirement already satisfied: uvicorn>=0.30 in /usr/local/lib/python3.12/dist-packages (from uvicorn[standard]>=0.30->python-fasthtml->hands-on-ai) (0.37.0)\n",
            "Requirement already satisfied: httpx in /usr/local/lib/python3.12/dist-packages (from python-fasthtml->hands-on-ai) (0.28.1)\n",
            "Requirement already satisfied: fastlite>=0.1.1 in /usr/local/lib/python3.12/dist-packages (from python-fasthtml->hands-on-ai) (0.2.1)\n",
            "Requirement already satisfied: python-multipart in /usr/local/lib/python3.12/dist-packages (from python-fasthtml->hands-on-ai) (0.0.20)\n",
            "Requirement already satisfied: beautifulsoup4 in /usr/local/lib/python3.12/dist-packages (from python-fasthtml->hands-on-ai) (4.13.5)\n",
            "Requirement already satisfied: scipy>=1.6.0 in /usr/local/lib/python3.12/dist-packages (from scikit-learn->hands-on-ai) (1.16.2)\n",
            "Requirement already satisfied: joblib>=1.2.0 in /usr/local/lib/python3.12/dist-packages (from scikit-learn->hands-on-ai) (1.5.2)\n",
            "Requirement already satisfied: threadpoolctl>=3.1.0 in /usr/local/lib/python3.12/dist-packages (from scikit-learn->hands-on-ai) (3.6.0)\n",
            "Requirement already satisfied: aiohappyeyeballs>=2.5.0 in /usr/local/lib/python3.12/dist-packages (from aiohttp<4.0.0,>=3.9.1->instructor>=1.11.0->hands-on-ai) (2.6.1)\n",
            "Requirement already satisfied: aiosignal>=1.4.0 in /usr/local/lib/python3.12/dist-packages (from aiohttp<4.0.0,>=3.9.1->instructor>=1.11.0->hands-on-ai) (1.4.0)\n",
            "Requirement already satisfied: attrs>=17.3.0 in /usr/local/lib/python3.12/dist-packages (from aiohttp<4.0.0,>=3.9.1->instructor>=1.11.0->hands-on-ai) (25.4.0)\n",
            "Requirement already satisfied: frozenlist>=1.1.1 in /usr/local/lib/python3.12/dist-packages (from aiohttp<4.0.0,>=3.9.1->instructor>=1.11.0->hands-on-ai) (1.8.0)\n",
            "Requirement already satisfied: multidict<7.0,>=4.5 in /usr/local/lib/python3.12/dist-packages (from aiohttp<4.0.0,>=3.9.1->instructor>=1.11.0->hands-on-ai) (6.7.0)\n",
            "Requirement already satisfied: propcache>=0.2.0 in /usr/local/lib/python3.12/dist-packages (from aiohttp<4.0.0,>=3.9.1->instructor>=1.11.0->hands-on-ai) (0.4.1)\n",
            "Requirement already satisfied: yarl<2.0,>=1.17.0 in /usr/local/lib/python3.12/dist-packages (from aiohttp<4.0.0,>=3.9.1->instructor>=1.11.0->hands-on-ai) (1.22.0)\n",
            "Requirement already satisfied: packaging in /usr/local/lib/python3.12/dist-packages (from fastcore>=1.8.1->python-fasthtml->hands-on-ai) (25.0)\n",
            "Requirement already satisfied: apswutils>=0.1.0 in /usr/local/lib/python3.12/dist-packages (from fastlite>=0.1.1->python-fasthtml->hands-on-ai) (0.1.0)\n",
            "Requirement already satisfied: MarkupSafe>=2.0 in /usr/local/lib/python3.12/dist-packages (from jinja2<4.0.0,>=3.1.4->instructor>=1.11.0->hands-on-ai) (3.0.3)\n",
            "Requirement already satisfied: anyio<5,>=3.5.0 in /usr/local/lib/python3.12/dist-packages (from openai<2.0.0,>=1.70.0->instructor>=1.11.0->hands-on-ai) (4.11.0)\n",
            "Requirement already satisfied: distro<2,>=1.7.0 in /usr/local/lib/python3.12/dist-packages (from openai<2.0.0,>=1.70.0->instructor>=1.11.0->hands-on-ai) (1.9.0)\n",
            "Requirement already satisfied: sniffio in /usr/local/lib/python3.12/dist-packages (from openai<2.0.0,>=1.70.0->instructor>=1.11.0->hands-on-ai) (1.3.1)\n",
            "Requirement already satisfied: tqdm>4 in /usr/local/lib/python3.12/dist-packages (from openai<2.0.0,>=1.70.0->instructor>=1.11.0->hands-on-ai) (4.67.1)\n",
            "Requirement already satisfied: httpcore==1.* in /usr/local/lib/python3.12/dist-packages (from httpx->python-fasthtml->hands-on-ai) (1.0.9)\n",
            "Requirement already satisfied: h11>=0.16 in /usr/local/lib/python3.12/dist-packages (from httpcore==1.*->httpx->python-fasthtml->hands-on-ai) (0.16.0)\n",
            "Requirement already satisfied: markdown-it-py>=2.2.0 in /usr/local/lib/python3.12/dist-packages (from rich<15.0.0,>=13.7.0->instructor>=1.11.0->hands-on-ai) (4.0.0)\n",
            "Requirement already satisfied: pygments<3.0.0,>=2.13.0 in /usr/local/lib/python3.12/dist-packages (from rich<15.0.0,>=13.7.0->instructor>=1.11.0->hands-on-ai) (2.19.2)\n",
            "Requirement already satisfied: httptools>=0.6.3 in /usr/local/lib/python3.12/dist-packages (from uvicorn[standard]>=0.30->python-fasthtml->hands-on-ai) (0.7.1)\n",
            "Requirement already satisfied: python-dotenv>=0.13 in /usr/local/lib/python3.12/dist-packages (from uvicorn[standard]>=0.30->python-fasthtml->hands-on-ai) (1.1.1)\n",
            "Requirement already satisfied: pyyaml>=5.1 in /usr/local/lib/python3.12/dist-packages (from uvicorn[standard]>=0.30->python-fasthtml->hands-on-ai) (6.0.3)\n",
            "Requirement already satisfied: uvloop>=0.15.1 in /usr/local/lib/python3.12/dist-packages (from uvicorn[standard]>=0.30->python-fasthtml->hands-on-ai) (0.22.1)\n",
            "Requirement already satisfied: watchfiles>=0.13 in /usr/local/lib/python3.12/dist-packages (from uvicorn[standard]>=0.30->python-fasthtml->hands-on-ai) (1.1.1)\n",
            "Requirement already satisfied: websockets>=10.4 in /usr/local/lib/python3.12/dist-packages (from uvicorn[standard]>=0.30->python-fasthtml->hands-on-ai) (15.0.1)\n",
            "Requirement already satisfied: soupsieve>1.2 in /usr/local/lib/python3.12/dist-packages (from beautifulsoup4->python-fasthtml->hands-on-ai) (2.8)\n",
            "Requirement already satisfied: six>=1.5 in /usr/local/lib/python3.12/dist-packages (from python-dateutil->python-fasthtml->hands-on-ai) (1.17.0)\n",
            "Requirement already satisfied: apsw in /usr/local/lib/python3.12/dist-packages (from apswutils>=0.1.0->fastlite>=0.1.1->python-fasthtml->hands-on-ai) (3.50.4.0)\n",
            "Requirement already satisfied: mdurl~=0.1 in /usr/local/lib/python3.12/dist-packages (from markdown-it-py>=2.2.0->rich<15.0.0,>=13.7.0->instructor>=1.11.0->hands-on-ai) (0.1.2)\n",
            "Requirement already satisfied: matplotlib in /usr/local/lib/python3.12/dist-packages (3.10.0)\n",
            "Requirement already satisfied: requests in /usr/local/lib/python3.12/dist-packages (2.32.4)\n",
            "Requirement already satisfied: contourpy>=1.0.1 in /usr/local/lib/python3.12/dist-packages (from matplotlib) (1.3.3)\n",
            "Requirement already satisfied: cycler>=0.10 in /usr/local/lib/python3.12/dist-packages (from matplotlib) (0.12.1)\n",
            "Requirement already satisfied: fonttools>=4.22.0 in /usr/local/lib/python3.12/dist-packages (from matplotlib) (4.60.1)\n",
            "Requirement already satisfied: kiwisolver>=1.3.1 in /usr/local/lib/python3.12/dist-packages (from matplotlib) (1.4.9)\n",
            "Requirement already satisfied: numpy>=1.23 in /usr/local/lib/python3.12/dist-packages (from matplotlib) (2.0.2)\n",
            "Requirement already satisfied: packaging>=20.0 in /usr/local/lib/python3.12/dist-packages (from matplotlib) (25.0)\n",
            "Requirement already satisfied: pillow>=8 in /usr/local/lib/python3.12/dist-packages (from matplotlib) (11.3.0)\n",
            "Requirement already satisfied: pyparsing>=2.3.1 in /usr/local/lib/python3.12/dist-packages (from matplotlib) (3.2.5)\n",
            "Requirement already satisfied: python-dateutil>=2.7 in /usr/local/lib/python3.12/dist-packages (from matplotlib) (2.9.0.post0)\n",
            "Requirement already satisfied: charset_normalizer<4,>=2 in /usr/local/lib/python3.12/dist-packages (from requests) (3.4.4)\n",
            "Requirement already satisfied: idna<4,>=2.5 in /usr/local/lib/python3.12/dist-packages (from requests) (3.11)\n",
            "Requirement already satisfied: urllib3<3,>=1.21.1 in /usr/local/lib/python3.12/dist-packages (from requests) (2.5.0)\n",
            "Requirement already satisfied: certifi>=2017.4.17 in /usr/local/lib/python3.12/dist-packages (from requests) (2025.10.5)\n",
            "Requirement already satisfied: six>=1.5 in /usr/local/lib/python3.12/dist-packages (from python-dateutil>=2.7->matplotlib) (1.17.0)\n"
          ]
        }
      ],
      "source": [
        "# installing necessary packages\n",
        "!pip install pyinputplus\n",
        "!pip install fetch-my-weather\n",
        "!pip install hands-on-ai\n",
        "!pip install matplotlib requests"
      ]
    },
    {
      "cell_type": "code",
      "source": [
        "import requests\n",
        "import matplotlib.pyplot as plt\n",
        "import pyinputplus as pyip\n",
        "from fetch_my_weather import get_weather\n",
        "from hands_on_ai.chat import get_response"
      ],
      "metadata": {
        "id": "B2JKlJfrGgIb"
      },
      "id": "B2JKlJfrGgIb",
      "execution_count": 19,
      "outputs": []
    },
    {
      "cell_type": "markdown",
      "id": "f736ade3",
      "metadata": {
        "id": "f736ade3"
      },
      "source": [
        "## 🌤️ Weather Data Functions"
      ]
    },
    {
      "cell_type": "code",
      "execution_count": 20,
      "id": "7a2c7cd0",
      "metadata": {
        "id": "7a2c7cd0"
      },
      "outputs": [],
      "source": [
        "def get_weather_data(location, forecast_days=5):\n",
        "    \"\"\"\n",
        "    Retrieve weather data for a specified location using the wttr.in API.\n",
        "\n",
        "    Args:\n",
        "        location (str): City or location name (e.g. \"Perth\", \"London\").\n",
        "        forecast_days (int): Number of forecast days to return (1-5 max recommended to avoid overload).\n",
        "\n",
        "    Returns:\n",
        "        dict: Weather data including current conditions and forecast.\n",
        "              Returns None if an error occurs.\n",
        "    \"\"\"\n",
        "    url = f\"https://wttr.in/{location}?format=j1\"\n",
        "\n",
        "    try:\n",
        "        response = requests.get(url, timeout=10)\n",
        "        response.raise_for_status()  # Ensures HTTP error codes are caught\n",
        "\n",
        "        data = response.json()\n",
        "\n",
        "        # Limit forecast to specified number of days if available\n",
        "        if \"weather\" in data:\n",
        "            data[\"weather\"] = data[\"weather\"][:forecast_days]\n",
        "        else:\n",
        "            print(\"⚠ Unexpected response structure: 'weather' key missing.\")\n",
        "            return None\n",
        "\n",
        "        return data\n",
        "\n",
        "    except requests.exceptions.RequestException as api_error:\n",
        "        print(f\"❌ Network/API error occurred: {api_error}\")\n",
        "        return None\n",
        "    except ValueError as data_error:\n",
        "        print(f\"⚠ Error while processing data: {data_error}\")\n",
        "        return None\n",
        "    except Exception as unexpected_error:\n",
        "        print(f\"⚠ An unexpected error occurred: {unexpected_error}\")\n",
        "        return None\n"
      ]
    },
    {
      "cell_type": "markdown",
      "id": "8a744fdc",
      "metadata": {
        "id": "8a744fdc"
      },
      "source": [
        "## 📊 Visualisation Functions"
      ]
    },
    {
      "cell_type": "code",
      "execution_count": 22,
      "id": "9dc3bf85",
      "metadata": {
        "id": "9dc3bf85"
      },
      "outputs": [],
      "source": [
        "import matplotlib.pyplot as plt\n",
        "\n",
        "def create_temperature_visualisation(weather_data, output_type='display'):\n",
        "    dates = [day['date'] for day in weather_data['weather']]\n",
        "    max_temps = [int(day['maxtempC']) for day in weather_data['weather']]\n",
        "    min_temps = [int(day['mintempC']) for day in weather_data['weather']]\n",
        "\n",
        "    plt.figure(figsize=(8,5))\n",
        "    plt.plot(dates, max_temps, 'r-o', label='Max Temp')\n",
        "    plt.plot(dates, min_temps, 'b-o', label='Min Temp')\n",
        "    plt.xlabel(\"Date\")\n",
        "    plt.ylabel(\"Temperature (°C)\")\n",
        "    plt.title(\"Temperature Forecast\")\n",
        "    plt.legend()\n",
        "    plt.grid(True)\n",
        "    if output_type == 'display':\n",
        "        plt.show()\n",
        "    else:\n",
        "        return plt.gcf()"
      ]
    },
    {
      "cell_type": "code",
      "source": [
        "def create_precipitation_visualisation(weather_data, output_type='display'):\n",
        "    dates = [day['date'] for day in weather_data['weather']]\n",
        "    avg_precip = [\n",
        "        sum(float(hour.get('precipMM',0)) for hour in day.get('hourly',[])) / len(day.get('hourly',[]))\n",
        "        for day in weather_data['weather']\n",
        "    ]\n",
        "\n",
        "    plt.figure(figsize=(8,5))\n",
        "    plt.bar(dates, avg_precip, color='skyblue')\n",
        "    plt.xlabel(\"Date\")\n",
        "    plt.ylabel(\"Avg Precipitation (mm)\")\n",
        "    plt.title(\"Precipitation Forecast\")\n",
        "    plt.grid(True)\n",
        "    if output_type == 'display':\n",
        "        plt.show()\n",
        "    else:\n",
        "        return plt.gcf()"
      ],
      "metadata": {
        "id": "HpOlQylYG5Ho"
      },
      "id": "HpOlQylYG5Ho",
      "execution_count": 23,
      "outputs": []
    },
    {
      "cell_type": "code",
      "source": [
        "def plot_temp_rain_combo(weather_data):\n",
        "    dates = [day['date'] for day in weather_data['weather']]\n",
        "    max_temps = [int(day['maxtempC']) for day in weather_data['weather']]\n",
        "    min_temps = [int(day['mintempC']) for day in weather_data['weather']]\n",
        "    avg_precip = [\n",
        "        sum(float(hour.get('precipMM',0)) for hour in day.get('hourly',[])) / len(day.get('hourly',[]))\n",
        "        for day in weather_data['weather']\n",
        "    ]\n",
        "\n",
        "    fig, ax1 = plt.subplots(figsize=(10,5))\n",
        "    ax1.set_xlabel(\"Date\")\n",
        "    ax1.set_ylabel(\"Temperature (°C)\", color='tab:red')\n",
        "    ax1.plot(dates, max_temps, 'r-o', label='Max Temp')\n",
        "    ax1.plot(dates, min_temps, 'orange', linestyle='--', marker='o', label='Min Temp')\n",
        "    ax1.tick_params(axis='y', labelcolor='tab:red')\n",
        "    ax1.legend(loc='upper left')\n",
        "\n",
        "    ax2 = ax1.twinx()\n",
        "    ax2.set_ylabel(\"Avg Precipitation (mm)\", color='tab:blue')\n",
        "    ax2.bar(dates, avg_precip, alpha=0.3, color='tab:blue', label='Avg Precipitation')\n",
        "    ax2.tick_params(axis='y', labelcolor='tab:blue')\n",
        "    ax2.legend(loc='upper right')\n",
        "\n",
        "    plt.title(\"Temperature and Precipitation Forecast\")\n",
        "    plt.show()\n"
      ],
      "metadata": {
        "id": "-v6Q4TKAKplr"
      },
      "id": "-v6Q4TKAKplr",
      "execution_count": 24,
      "outputs": []
    },
    {
      "cell_type": "markdown",
      "id": "9f95d160",
      "metadata": {
        "id": "9f95d160"
      },
      "source": [
        "## 🤖 Natural Language Processing"
      ]
    },
    {
      "cell_type": "code",
      "execution_count": 26,
      "id": "bcc5833e",
      "metadata": {
        "id": "bcc5833e"
      },
      "outputs": [],
      "source": [
        "def parse_weather_question_nlp(question):\n",
        "    \"\"\"\n",
        "    Parse a natural language weather question to extract location, time, and attribute.\n",
        "    \"\"\"\n",
        "    question_lower = question.lower()\n",
        "\n",
        "    perth_areas = [\"perth\", \"fremantle\", \"cannington\", \"joondalup\", \"subiaco\", \"victoria park\"]\n",
        "    location = \"Perth\"  # default\n",
        "    for area in perth_areas:\n",
        "        if area in question_lower:\n",
        "            location = area.title()\n",
        "            break\n",
        "    else:\n",
        "\n",
        "        words = question.split()\n",
        "        location = words[-1].title() if len(words) > 1 else \"Unknown\"\n",
        "\n",
        "\n",
        "    if \"tomorrow\" in question_lower:\n",
        "        time_period = \"tomorrow\"\n",
        "    elif \"day after tomorrow\" in question_lower:\n",
        "        time_period = \"day after tomorrow\"\n",
        "    elif \"next\" in question_lower and \"day\" in question_lower:\n",
        "        time_period = \"next few days\"\n",
        "    else:\n",
        "        time_period = \"today\"\n",
        "\n",
        "\n",
        "    if any(word in question_lower for word in [\"temperature\", \"hot\", \"cold\"]):\n",
        "        attribute = \"temperature\"\n",
        "    elif any(word in question_lower for word in [\"rain\", \"precipitation\", \"shower\"]):\n",
        "        attribute = \"precipitation\"\n",
        "    elif \"humidity\" in question_lower:\n",
        "        attribute = \"humidity\"\n",
        "    elif \"wind\" in question_lower or \"breeze\" in question_lower:\n",
        "        attribute = \"wind\"\n",
        "    else:\n",
        "        attribute = \"general\"\n",
        "\n",
        "    return {\n",
        "        \"location\": location,\n",
        "        \"time_period\": time_period,\n",
        "        \"attribute\": attribute\n",
        "    }\n"
      ]
    },
    {
      "cell_type": "markdown",
      "id": "0d85225e",
      "metadata": {
        "id": "0d85225e"
      },
      "source": [
        "## 🧭 User Interface"
      ]
    },
    {
      "cell_type": "code",
      "execution_count": 25,
      "id": "fa6cb0f6",
      "metadata": {
        "id": "fa6cb0f6"
      },
      "outputs": [],
      "source": [
        "def main_menu():\n",
        "    print(\"🌤️ Welcome to Weather Advisor!\")\n",
        "    while True:\n",
        "        print(\"\\nPlease choose an option:\")\n",
        "        print(\"1 - View Today's Weather\")\n",
        "        print(\"2 - Ask a Weather Question\")\n",
        "        print(\"3 - Display Temperature Graph\")\n",
        "        print(\"4 - Display Rain/Precipitation Graph\")\n",
        "        print(\"5 - Display Combination of Temperature and Rain Graph\")\n",
        "        print(\"6 - Quit\")\n",
        "\n",
        "        choice = pyip.inputChoice(['1','2','3','4','5','6'], prompt=\"Enter choice (1-6): \")\n",
        "\n",
        "        if choice == '6':\n",
        "            print(\"Goodbye! 👋\")\n",
        "            break\n",
        "\n",
        "        location = pyip.inputStr(prompt=\"Enter location (city or Perth area): \")\n",
        "        weather_data = get_weather_data(location, forecast_days=3)\n",
        "        if not weather_data:\n",
        "            print(\"⚠ Could not retrieve weather data. Please try again.\")\n",
        "            continue\n",
        "\n",
        "        if choice == '1':\n",
        "            response = generate_weather_response({\n",
        "                'location': location,\n",
        "                'attribute': None,\n",
        "                'time_period': 'today'\n",
        "            }, weather_data)\n",
        "            print(response)\n",
        "\n",
        "        elif choice == '2':\n",
        "            question = pyip.inputStr(prompt=\"Ask your weather question: \")\n",
        "            parsed = parse_weather_question(question)\n",
        "            parsed['location'] = location\n",
        "            response = generate_weather_response(parsed, weather_data)\n",
        "            print(response)\n",
        "\n",
        "        elif choice == '3':\n",
        "            create_temperature_visualisation(weather_data)\n",
        "\n",
        "        elif choice == '4':\n",
        "            create_precipitation_visualisation(weather_data)\n",
        "\n",
        "        elif choice == '5':\n",
        "            plot_temp_rain_combo(weather_data)\n"
      ]
    },
    {
      "cell_type": "markdown",
      "id": "d643a53c",
      "metadata": {
        "id": "d643a53c"
      },
      "source": [
        "## 🧩 Main Application Logic"
      ]
    },
    {
      "cell_type": "code",
      "execution_count": null,
      "id": "a9e2e805",
      "metadata": {
        "id": "a9e2e805"
      },
      "outputs": [],
      "source": [
        "# Tie everything together here\n",
        "def generate_weather_response(parsed_question, weather_data):\n",
        "    \"\"\"\n",
        "    Generate a natural language response to a weather question.\n",
        "\n",
        "    Args:\n",
        "        parsed_question (dict): Parsed question data\n",
        "        weather_data (dict): Weather data\n",
        "\n",
        "    Returns:\n",
        "        str: Natural language response\n",
        "    \"\"\"\n",
        "    pass"
      ]
    },
    {
      "cell_type": "markdown",
      "id": "fde44479",
      "metadata": {
        "id": "fde44479"
      },
      "source": [
        "## 🧪 Testing and Examples"
      ]
    },
    {
      "cell_type": "code",
      "execution_count": null,
      "id": "4e573901",
      "metadata": {
        "id": "4e573901"
      },
      "outputs": [],
      "source": [
        "# Include sample input/output for each function"
      ]
    },
    {
      "cell_type": "markdown",
      "id": "d2885880",
      "metadata": {
        "id": "d2885880"
      },
      "source": [
        "## 🗂️ AI Prompting Log (Optional)\n",
        "Add markdown cells here summarising prompts used or link to AI conversations in the `ai-conversations/` folder."
      ]
    }
  ],
  "metadata": {
    "language_info": {
      "name": "python"
    },
    "colab": {
      "provenance": [],
      "include_colab_link": true
    },
    "kernelspec": {
      "name": "python3",
      "display_name": "Python 3"
    }
  },
  "nbformat": 4,
  "nbformat_minor": 5
}