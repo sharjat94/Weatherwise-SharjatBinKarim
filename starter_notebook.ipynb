{
  "cells": [
    {
      "cell_type": "markdown",
      "metadata": {
        "id": "view-in-github",
        "colab_type": "text"
      },
      "source": [
        "<a href=\"https://colab.research.google.com/github/sharjat94/Weatherwise-SharjatBinKarim/blob/main/starter_notebook.ipynb\" target=\"_parent\"><img src=\"https://colab.research.google.com/assets/colab-badge.svg\" alt=\"Open In Colab\"/></a>"
      ]
    },
    {
      "cell_type": "markdown",
      "source": [
        "## Installing all the necessary Packages\n"
      ],
      "metadata": {
        "id": "3IiQtsM5BY7E"
      },
      "id": "3IiQtsM5BY7E"
    },
    {
      "cell_type": "code",
      "execution_count": 4,
      "id": "70c3f3f1",
      "metadata": {
        "id": "70c3f3f1",
        "colab": {
          "base_uri": "https://localhost:8080/"
        },
        "outputId": "eb5aa529-ab28-4bd5-90df-183afd6c9064"
      },
      "outputs": [
        {
          "output_type": "stream",
          "name": "stdout",
          "text": [
            "Requirement already satisfied: pyinputplus in /usr/local/lib/python3.12/dist-packages (0.2.12)\n",
            "Requirement already satisfied: pysimplevalidate>=0.2.7 in /usr/local/lib/python3.12/dist-packages (from pyinputplus) (0.2.12)\n",
            "Requirement already satisfied: stdiomask>=0.0.3 in /usr/local/lib/python3.12/dist-packages (from pyinputplus) (0.0.6)\n",
            "Requirement already satisfied: fetch-my-weather in /usr/local/lib/python3.12/dist-packages (0.4.0)\n",
            "Requirement already satisfied: requests>=2.25.0 in /usr/local/lib/python3.12/dist-packages (from fetch-my-weather) (2.32.4)\n",
            "Requirement already satisfied: pydantic>=1.8.0 in /usr/local/lib/python3.12/dist-packages (from fetch-my-weather) (2.11.10)\n",
            "Requirement already satisfied: annotated-types>=0.6.0 in /usr/local/lib/python3.12/dist-packages (from pydantic>=1.8.0->fetch-my-weather) (0.7.0)\n",
            "Requirement already satisfied: pydantic-core==2.33.2 in /usr/local/lib/python3.12/dist-packages (from pydantic>=1.8.0->fetch-my-weather) (2.33.2)\n",
            "Requirement already satisfied: typing-extensions>=4.12.2 in /usr/local/lib/python3.12/dist-packages (from pydantic>=1.8.0->fetch-my-weather) (4.15.0)\n",
            "Requirement already satisfied: typing-inspection>=0.4.0 in /usr/local/lib/python3.12/dist-packages (from pydantic>=1.8.0->fetch-my-weather) (0.4.2)\n",
            "Requirement already satisfied: charset_normalizer<4,>=2 in /usr/local/lib/python3.12/dist-packages (from requests>=2.25.0->fetch-my-weather) (3.4.4)\n",
            "Requirement already satisfied: idna<4,>=2.5 in /usr/local/lib/python3.12/dist-packages (from requests>=2.25.0->fetch-my-weather) (3.11)\n",
            "Requirement already satisfied: urllib3<3,>=1.21.1 in /usr/local/lib/python3.12/dist-packages (from requests>=2.25.0->fetch-my-weather) (2.5.0)\n",
            "Requirement already satisfied: certifi>=2017.4.17 in /usr/local/lib/python3.12/dist-packages (from requests>=2.25.0->fetch-my-weather) (2025.10.5)\n",
            "Requirement already satisfied: hands-on-ai in /usr/local/lib/python3.12/dist-packages (0.2.1)\n",
            "Requirement already satisfied: requests in /usr/local/lib/python3.12/dist-packages (from hands-on-ai) (2.32.4)\n",
            "Requirement already satisfied: typer in /usr/local/lib/python3.12/dist-packages (from hands-on-ai) (0.19.2)\n",
            "Requirement already satisfied: python-fasthtml in /usr/local/lib/python3.12/dist-packages (from hands-on-ai) (0.12.30)\n",
            "Requirement already satisfied: python-docx in /usr/local/lib/python3.12/dist-packages (from hands-on-ai) (1.2.0)\n",
            "Requirement already satisfied: pymupdf in /usr/local/lib/python3.12/dist-packages (from hands-on-ai) (1.26.5)\n",
            "Requirement already satisfied: scikit-learn in /usr/local/lib/python3.12/dist-packages (from hands-on-ai) (1.6.1)\n",
            "Requirement already satisfied: numpy in /usr/local/lib/python3.12/dist-packages (from hands-on-ai) (2.0.2)\n",
            "Requirement already satisfied: instructor>=1.11.0 in /usr/local/lib/python3.12/dist-packages (from hands-on-ai) (1.11.3)\n",
            "Requirement already satisfied: pydantic>=2.0 in /usr/local/lib/python3.12/dist-packages (from hands-on-ai) (2.11.10)\n",
            "Requirement already satisfied: aiohttp<4.0.0,>=3.9.1 in /usr/local/lib/python3.12/dist-packages (from instructor>=1.11.0->hands-on-ai) (3.13.0)\n",
            "Requirement already satisfied: diskcache>=5.6.3 in /usr/local/lib/python3.12/dist-packages (from instructor>=1.11.0->hands-on-ai) (5.6.3)\n",
            "Requirement already satisfied: docstring-parser<1.0,>=0.16 in /usr/local/lib/python3.12/dist-packages (from instructor>=1.11.0->hands-on-ai) (0.17.0)\n",
            "Requirement already satisfied: jinja2<4.0.0,>=3.1.4 in /usr/local/lib/python3.12/dist-packages (from instructor>=1.11.0->hands-on-ai) (3.1.6)\n",
            "Requirement already satisfied: jiter<0.11,>=0.6.1 in /usr/local/lib/python3.12/dist-packages (from instructor>=1.11.0->hands-on-ai) (0.10.0)\n",
            "Requirement already satisfied: openai<2.0.0,>=1.70.0 in /usr/local/lib/python3.12/dist-packages (from instructor>=1.11.0->hands-on-ai) (1.109.1)\n",
            "Requirement already satisfied: pydantic-core<3.0.0,>=2.18.0 in /usr/local/lib/python3.12/dist-packages (from instructor>=1.11.0->hands-on-ai) (2.33.2)\n",
            "Requirement already satisfied: rich<15.0.0,>=13.7.0 in /usr/local/lib/python3.12/dist-packages (from instructor>=1.11.0->hands-on-ai) (13.9.4)\n",
            "Requirement already satisfied: tenacity<10.0.0,>=8.2.3 in /usr/local/lib/python3.12/dist-packages (from instructor>=1.11.0->hands-on-ai) (8.5.0)\n",
            "Requirement already satisfied: annotated-types>=0.6.0 in /usr/local/lib/python3.12/dist-packages (from pydantic>=2.0->hands-on-ai) (0.7.0)\n",
            "Requirement already satisfied: typing-extensions>=4.12.2 in /usr/local/lib/python3.12/dist-packages (from pydantic>=2.0->hands-on-ai) (4.15.0)\n",
            "Requirement already satisfied: typing-inspection>=0.4.0 in /usr/local/lib/python3.12/dist-packages (from pydantic>=2.0->hands-on-ai) (0.4.2)\n",
            "Requirement already satisfied: charset_normalizer<4,>=2 in /usr/local/lib/python3.12/dist-packages (from requests->hands-on-ai) (3.4.4)\n",
            "Requirement already satisfied: idna<4,>=2.5 in /usr/local/lib/python3.12/dist-packages (from requests->hands-on-ai) (3.11)\n",
            "Requirement already satisfied: urllib3<3,>=1.21.1 in /usr/local/lib/python3.12/dist-packages (from requests->hands-on-ai) (2.5.0)\n",
            "Requirement already satisfied: certifi>=2017.4.17 in /usr/local/lib/python3.12/dist-packages (from requests->hands-on-ai) (2025.10.5)\n",
            "Requirement already satisfied: click>=8.0.0 in /usr/local/lib/python3.12/dist-packages (from typer->hands-on-ai) (8.3.0)\n",
            "Requirement already satisfied: shellingham>=1.3.0 in /usr/local/lib/python3.12/dist-packages (from typer->hands-on-ai) (1.5.4)\n",
            "Requirement already satisfied: lxml>=3.1.0 in /usr/local/lib/python3.12/dist-packages (from python-docx->hands-on-ai) (5.4.0)\n",
            "Requirement already satisfied: fastcore>=1.8.1 in /usr/local/lib/python3.12/dist-packages (from python-fasthtml->hands-on-ai) (1.8.12)\n",
            "Requirement already satisfied: python-dateutil in /usr/local/lib/python3.12/dist-packages (from python-fasthtml->hands-on-ai) (2.9.0.post0)\n",
            "Requirement already satisfied: starlette>0.33 in /usr/local/lib/python3.12/dist-packages (from python-fasthtml->hands-on-ai) (0.48.0)\n",
            "Requirement already satisfied: oauthlib in /usr/local/lib/python3.12/dist-packages (from python-fasthtml->hands-on-ai) (3.3.1)\n",
            "Requirement already satisfied: itsdangerous in /usr/local/lib/python3.12/dist-packages (from python-fasthtml->hands-on-ai) (2.2.0)\n",
            "Requirement already satisfied: uvicorn>=0.30 in /usr/local/lib/python3.12/dist-packages (from uvicorn[standard]>=0.30->python-fasthtml->hands-on-ai) (0.37.0)\n",
            "Requirement already satisfied: httpx in /usr/local/lib/python3.12/dist-packages (from python-fasthtml->hands-on-ai) (0.28.1)\n",
            "Requirement already satisfied: fastlite>=0.1.1 in /usr/local/lib/python3.12/dist-packages (from python-fasthtml->hands-on-ai) (0.2.1)\n",
            "Requirement already satisfied: python-multipart in /usr/local/lib/python3.12/dist-packages (from python-fasthtml->hands-on-ai) (0.0.20)\n",
            "Requirement already satisfied: beautifulsoup4 in /usr/local/lib/python3.12/dist-packages (from python-fasthtml->hands-on-ai) (4.13.5)\n",
            "Requirement already satisfied: scipy>=1.6.0 in /usr/local/lib/python3.12/dist-packages (from scikit-learn->hands-on-ai) (1.16.2)\n",
            "Requirement already satisfied: joblib>=1.2.0 in /usr/local/lib/python3.12/dist-packages (from scikit-learn->hands-on-ai) (1.5.2)\n",
            "Requirement already satisfied: threadpoolctl>=3.1.0 in /usr/local/lib/python3.12/dist-packages (from scikit-learn->hands-on-ai) (3.6.0)\n",
            "Requirement already satisfied: aiohappyeyeballs>=2.5.0 in /usr/local/lib/python3.12/dist-packages (from aiohttp<4.0.0,>=3.9.1->instructor>=1.11.0->hands-on-ai) (2.6.1)\n",
            "Requirement already satisfied: aiosignal>=1.4.0 in /usr/local/lib/python3.12/dist-packages (from aiohttp<4.0.0,>=3.9.1->instructor>=1.11.0->hands-on-ai) (1.4.0)\n",
            "Requirement already satisfied: attrs>=17.3.0 in /usr/local/lib/python3.12/dist-packages (from aiohttp<4.0.0,>=3.9.1->instructor>=1.11.0->hands-on-ai) (25.4.0)\n",
            "Requirement already satisfied: frozenlist>=1.1.1 in /usr/local/lib/python3.12/dist-packages (from aiohttp<4.0.0,>=3.9.1->instructor>=1.11.0->hands-on-ai) (1.8.0)\n",
            "Requirement already satisfied: multidict<7.0,>=4.5 in /usr/local/lib/python3.12/dist-packages (from aiohttp<4.0.0,>=3.9.1->instructor>=1.11.0->hands-on-ai) (6.7.0)\n",
            "Requirement already satisfied: propcache>=0.2.0 in /usr/local/lib/python3.12/dist-packages (from aiohttp<4.0.0,>=3.9.1->instructor>=1.11.0->hands-on-ai) (0.4.1)\n",
            "Requirement already satisfied: yarl<2.0,>=1.17.0 in /usr/local/lib/python3.12/dist-packages (from aiohttp<4.0.0,>=3.9.1->instructor>=1.11.0->hands-on-ai) (1.22.0)\n",
            "Requirement already satisfied: packaging in /usr/local/lib/python3.12/dist-packages (from fastcore>=1.8.1->python-fasthtml->hands-on-ai) (25.0)\n",
            "Requirement already satisfied: apswutils>=0.1.0 in /usr/local/lib/python3.12/dist-packages (from fastlite>=0.1.1->python-fasthtml->hands-on-ai) (0.1.0)\n",
            "Requirement already satisfied: MarkupSafe>=2.0 in /usr/local/lib/python3.12/dist-packages (from jinja2<4.0.0,>=3.1.4->instructor>=1.11.0->hands-on-ai) (3.0.3)\n",
            "Requirement already satisfied: anyio<5,>=3.5.0 in /usr/local/lib/python3.12/dist-packages (from openai<2.0.0,>=1.70.0->instructor>=1.11.0->hands-on-ai) (4.11.0)\n",
            "Requirement already satisfied: distro<2,>=1.7.0 in /usr/local/lib/python3.12/dist-packages (from openai<2.0.0,>=1.70.0->instructor>=1.11.0->hands-on-ai) (1.9.0)\n",
            "Requirement already satisfied: sniffio in /usr/local/lib/python3.12/dist-packages (from openai<2.0.0,>=1.70.0->instructor>=1.11.0->hands-on-ai) (1.3.1)\n",
            "Requirement already satisfied: tqdm>4 in /usr/local/lib/python3.12/dist-packages (from openai<2.0.0,>=1.70.0->instructor>=1.11.0->hands-on-ai) (4.67.1)\n",
            "Requirement already satisfied: httpcore==1.* in /usr/local/lib/python3.12/dist-packages (from httpx->python-fasthtml->hands-on-ai) (1.0.9)\n",
            "Requirement already satisfied: h11>=0.16 in /usr/local/lib/python3.12/dist-packages (from httpcore==1.*->httpx->python-fasthtml->hands-on-ai) (0.16.0)\n",
            "Requirement already satisfied: markdown-it-py>=2.2.0 in /usr/local/lib/python3.12/dist-packages (from rich<15.0.0,>=13.7.0->instructor>=1.11.0->hands-on-ai) (4.0.0)\n",
            "Requirement already satisfied: pygments<3.0.0,>=2.13.0 in /usr/local/lib/python3.12/dist-packages (from rich<15.0.0,>=13.7.0->instructor>=1.11.0->hands-on-ai) (2.19.2)\n",
            "Requirement already satisfied: httptools>=0.6.3 in /usr/local/lib/python3.12/dist-packages (from uvicorn[standard]>=0.30->python-fasthtml->hands-on-ai) (0.7.1)\n",
            "Requirement already satisfied: python-dotenv>=0.13 in /usr/local/lib/python3.12/dist-packages (from uvicorn[standard]>=0.30->python-fasthtml->hands-on-ai) (1.1.1)\n",
            "Requirement already satisfied: pyyaml>=5.1 in /usr/local/lib/python3.12/dist-packages (from uvicorn[standard]>=0.30->python-fasthtml->hands-on-ai) (6.0.3)\n",
            "Requirement already satisfied: uvloop>=0.15.1 in /usr/local/lib/python3.12/dist-packages (from uvicorn[standard]>=0.30->python-fasthtml->hands-on-ai) (0.22.1)\n",
            "Requirement already satisfied: watchfiles>=0.13 in /usr/local/lib/python3.12/dist-packages (from uvicorn[standard]>=0.30->python-fasthtml->hands-on-ai) (1.1.1)\n",
            "Requirement already satisfied: websockets>=10.4 in /usr/local/lib/python3.12/dist-packages (from uvicorn[standard]>=0.30->python-fasthtml->hands-on-ai) (15.0.1)\n",
            "Requirement already satisfied: soupsieve>1.2 in /usr/local/lib/python3.12/dist-packages (from beautifulsoup4->python-fasthtml->hands-on-ai) (2.8)\n",
            "Requirement already satisfied: six>=1.5 in /usr/local/lib/python3.12/dist-packages (from python-dateutil->python-fasthtml->hands-on-ai) (1.17.0)\n",
            "Requirement already satisfied: apsw in /usr/local/lib/python3.12/dist-packages (from apswutils>=0.1.0->fastlite>=0.1.1->python-fasthtml->hands-on-ai) (3.50.4.0)\n",
            "Requirement already satisfied: mdurl~=0.1 in /usr/local/lib/python3.12/dist-packages (from markdown-it-py>=2.2.0->rich<15.0.0,>=13.7.0->instructor>=1.11.0->hands-on-ai) (0.1.2)\n",
            "Requirement already satisfied: matplotlib in /usr/local/lib/python3.12/dist-packages (3.10.0)\n",
            "Requirement already satisfied: requests in /usr/local/lib/python3.12/dist-packages (2.32.4)\n",
            "Requirement already satisfied: contourpy>=1.0.1 in /usr/local/lib/python3.12/dist-packages (from matplotlib) (1.3.3)\n",
            "Requirement already satisfied: cycler>=0.10 in /usr/local/lib/python3.12/dist-packages (from matplotlib) (0.12.1)\n",
            "Requirement already satisfied: fonttools>=4.22.0 in /usr/local/lib/python3.12/dist-packages (from matplotlib) (4.60.1)\n",
            "Requirement already satisfied: kiwisolver>=1.3.1 in /usr/local/lib/python3.12/dist-packages (from matplotlib) (1.4.9)\n",
            "Requirement already satisfied: numpy>=1.23 in /usr/local/lib/python3.12/dist-packages (from matplotlib) (2.0.2)\n",
            "Requirement already satisfied: packaging>=20.0 in /usr/local/lib/python3.12/dist-packages (from matplotlib) (25.0)\n",
            "Requirement already satisfied: pillow>=8 in /usr/local/lib/python3.12/dist-packages (from matplotlib) (11.3.0)\n",
            "Requirement already satisfied: pyparsing>=2.3.1 in /usr/local/lib/python3.12/dist-packages (from matplotlib) (3.2.5)\n",
            "Requirement already satisfied: python-dateutil>=2.7 in /usr/local/lib/python3.12/dist-packages (from matplotlib) (2.9.0.post0)\n",
            "Requirement already satisfied: charset_normalizer<4,>=2 in /usr/local/lib/python3.12/dist-packages (from requests) (3.4.4)\n",
            "Requirement already satisfied: idna<4,>=2.5 in /usr/local/lib/python3.12/dist-packages (from requests) (3.11)\n",
            "Requirement already satisfied: urllib3<3,>=1.21.1 in /usr/local/lib/python3.12/dist-packages (from requests) (2.5.0)\n",
            "Requirement already satisfied: certifi>=2017.4.17 in /usr/local/lib/python3.12/dist-packages (from requests) (2025.10.5)\n",
            "Requirement already satisfied: six>=1.5 in /usr/local/lib/python3.12/dist-packages (from python-dateutil>=2.7->matplotlib) (1.17.0)\n"
          ]
        }
      ],
      "source": [
        "# installing necessary packages\n",
        "!pip install pyinputplus\n",
        "!pip install fetch-my-weather\n",
        "!pip install hands-on-ai\n",
        "!pip install matplotlib requests"
      ]
    },
    {
      "cell_type": "code",
      "source": [
        "import requests\n",
        "import matplotlib.pyplot as plt\n",
        "import pyinputplus as pyip\n",
        "from fetch_my_weather import get_weather\n",
        "from hands_on_ai.chat import get_response"
      ],
      "metadata": {
        "id": "B2JKlJfrGgIb"
      },
      "id": "B2JKlJfrGgIb",
      "execution_count": 19,
      "outputs": []
    },
    {
      "cell_type": "markdown",
      "id": "f736ade3",
      "metadata": {
        "id": "f736ade3"
      },
      "source": [
        "## 🌤️ Weather Data Functions"
      ]
    },
    {
      "cell_type": "code",
      "execution_count": 20,
      "id": "7a2c7cd0",
      "metadata": {
        "id": "7a2c7cd0"
      },
      "outputs": [],
      "source": [
        "def get_weather_data(location, forecast_days=5):\n",
        "    \"\"\"\n",
        "    Retrieve weather data for a specified location using the wttr.in API.\n",
        "\n",
        "    Args:\n",
        "        location (str): City or location name (e.g. \"Perth\", \"London\").\n",
        "        forecast_days (int): Number of forecast days to return (1-5 max recommended to avoid overload).\n",
        "\n",
        "    Returns:\n",
        "        dict: Weather data including current conditions and forecast.\n",
        "              Returns None if an error occurs.\n",
        "    \"\"\"\n",
        "    url = f\"https://wttr.in/{location}?format=j1\"\n",
        "\n",
        "    try:\n",
        "        response = requests.get(url, timeout=10)\n",
        "        response.raise_for_status()  # Ensures HTTP error codes are caught\n",
        "\n",
        "        data = response.json()\n",
        "\n",
        "        # Limit forecast to specified number of days if available\n",
        "        if \"weather\" in data:\n",
        "            data[\"weather\"] = data[\"weather\"][:forecast_days]\n",
        "        else:\n",
        "            print(\"⚠ Unexpected response structure: 'weather' key missing.\")\n",
        "            return None\n",
        "\n",
        "        return data\n",
        "\n",
        "    except requests.exceptions.RequestException as api_error:\n",
        "        print(f\"❌ Network/API error occurred: {api_error}\")\n",
        "        return None\n",
        "    except ValueError as data_error:\n",
        "        print(f\"⚠ Error while processing data: {data_error}\")\n",
        "        return None\n",
        "    except Exception as unexpected_error:\n",
        "        print(f\"⚠ An unexpected error occurred: {unexpected_error}\")\n",
        "        return None\n"
      ]
    },
    {
      "cell_type": "markdown",
      "id": "8a744fdc",
      "metadata": {
        "id": "8a744fdc"
      },
      "source": [
        "## 📊 Visualisation Functions"
      ]
    },
    {
      "cell_type": "code",
      "execution_count": 22,
      "id": "9dc3bf85",
      "metadata": {
        "id": "9dc3bf85"
      },
      "outputs": [],
      "source": [
        "import matplotlib.pyplot as plt\n",
        "\n",
        "def create_temperature_visualisation(weather_data, output_type='display'):\n",
        "    dates = [day['date'] for day in weather_data['weather']]\n",
        "    max_temps = [int(day['maxtempC']) for day in weather_data['weather']]\n",
        "    min_temps = [int(day['mintempC']) for day in weather_data['weather']]\n",
        "\n",
        "    plt.figure(figsize=(8,5))\n",
        "    plt.plot(dates, max_temps, 'r-o', label='Max Temp')\n",
        "    plt.plot(dates, min_temps, 'b-o', label='Min Temp')\n",
        "    plt.xlabel(\"Date\")\n",
        "    plt.ylabel(\"Temperature (°C)\")\n",
        "    plt.title(\"Temperature Forecast\")\n",
        "    plt.legend()\n",
        "    plt.grid(True)\n",
        "    if output_type == 'display':\n",
        "        plt.show()\n",
        "    else:\n",
        "        return plt.gcf()"
      ]
    },
    {
      "cell_type": "code",
      "source": [
        "def create_precipitation_visualisation(weather_data, output_type='display'):\n",
        "    dates = [day['date'] for day in weather_data['weather']]\n",
        "    avg_precip = [\n",
        "        sum(float(hour.get('precipMM',0)) for hour in day.get('hourly',[])) / len(day.get('hourly',[]))\n",
        "        for day in weather_data['weather']\n",
        "    ]\n",
        "\n",
        "    plt.figure(figsize=(8,5))\n",
        "    plt.bar(dates, avg_precip, color='skyblue')\n",
        "    plt.xlabel(\"Date\")\n",
        "    plt.ylabel(\"Avg Precipitation (mm)\")\n",
        "    plt.title(\"Precipitation Forecast\")\n",
        "    plt.grid(True)\n",
        "    if output_type == 'display':\n",
        "        plt.show()\n",
        "    else:\n",
        "        return plt.gcf()"
      ],
      "metadata": {
        "id": "HpOlQylYG5Ho"
      },
      "id": "HpOlQylYG5Ho",
      "execution_count": 23,
      "outputs": []
    },
    {
      "cell_type": "code",
      "source": [
        "def plot_temp_rain_combo(weather_data):\n",
        "    dates = [day['date'] for day in weather_data['weather']]\n",
        "    max_temps = [int(day['maxtempC']) for day in weather_data['weather']]\n",
        "    min_temps = [int(day['mintempC']) for day in weather_data['weather']]\n",
        "    avg_precip = [\n",
        "        sum(float(hour.get('precipMM',0)) for hour in day.get('hourly',[])) / len(day.get('hourly',[]))\n",
        "        for day in weather_data['weather']\n",
        "    ]\n",
        "\n",
        "    fig, ax1 = plt.subplots(figsize=(10,5))\n",
        "    ax1.set_xlabel(\"Date\")\n",
        "    ax1.set_ylabel(\"Temperature (°C)\", color='tab:red')\n",
        "    ax1.plot(dates, max_temps, 'r-o', label='Max Temp')\n",
        "    ax1.plot(dates, min_temps, 'orange', linestyle='--', marker='o', label='Min Temp')\n",
        "    ax1.tick_params(axis='y', labelcolor='tab:red')\n",
        "    ax1.legend(loc='upper left')\n",
        "\n",
        "    ax2 = ax1.twinx()\n",
        "    ax2.set_ylabel(\"Avg Precipitation (mm)\", color='tab:blue')\n",
        "    ax2.bar(dates, avg_precip, alpha=0.3, color='tab:blue', label='Avg Precipitation')\n",
        "    ax2.tick_params(axis='y', labelcolor='tab:blue')\n",
        "    ax2.legend(loc='upper right')\n",
        "\n",
        "    plt.title(\"Temperature and Precipitation Forecast\")\n",
        "    plt.show()\n"
      ],
      "metadata": {
        "id": "-v6Q4TKAKplr"
      },
      "id": "-v6Q4TKAKplr",
      "execution_count": 24,
      "outputs": []
    },
    {
      "cell_type": "markdown",
      "id": "9f95d160",
      "metadata": {
        "id": "9f95d160"
      },
      "source": [
        "## 🤖 Natural Language Processing"
      ]
    },
    {
      "cell_type": "code",
      "execution_count": 26,
      "id": "bcc5833e",
      "metadata": {
        "id": "bcc5833e"
      },
      "outputs": [],
      "source": [
        "def parse_weather_question_nlp(question):\n",
        "    \"\"\"\n",
        "    Parse a natural language weather question to extract location, time, and attribute.\n",
        "    \"\"\"\n",
        "    question_lower = question.lower()\n",
        "\n",
        "    perth_areas = [\"perth\", \"fremantle\", \"cannington\", \"joondalup\", \"subiaco\", \"victoria park\"]\n",
        "    location = \"Perth\"  # default\n",
        "    for area in perth_areas:\n",
        "        if area in question_lower:\n",
        "            location = area.title()\n",
        "            break\n",
        "    else:\n",
        "\n",
        "        words = question.split()\n",
        "        location = words[-1].title() if len(words) > 1 else \"Unknown\"\n",
        "\n",
        "\n",
        "    if \"tomorrow\" in question_lower:\n",
        "        time_period = \"tomorrow\"\n",
        "    elif \"day after tomorrow\" in question_lower:\n",
        "        time_period = \"day after tomorrow\"\n",
        "    elif \"next\" in question_lower and \"day\" in question_lower:\n",
        "        time_period = \"next few days\"\n",
        "    else:\n",
        "        time_period = \"today\"\n",
        "\n",
        "\n",
        "    if any(word in question_lower for word in [\"temperature\", \"hot\", \"cold\"]):\n",
        "        attribute = \"temperature\"\n",
        "    elif any(word in question_lower for word in [\"rain\", \"precipitation\", \"shower\"]):\n",
        "        attribute = \"precipitation\"\n",
        "    elif \"humidity\" in question_lower:\n",
        "        attribute = \"humidity\"\n",
        "    elif \"wind\" in question_lower or \"breeze\" in question_lower:\n",
        "        attribute = \"wind\"\n",
        "    else:\n",
        "        attribute = \"general\"\n",
        "\n",
        "    return {\n",
        "        \"location\": location,\n",
        "        \"time_period\": time_period,\n",
        "        \"attribute\": attribute\n",
        "    }\n"
      ]
    },
    {
      "cell_type": "markdown",
      "id": "0d85225e",
      "metadata": {
        "id": "0d85225e"
      },
      "source": [
        "## 🧭 User Interface"
      ]
    },
    {
      "cell_type": "code",
      "execution_count": 25,
      "id": "fa6cb0f6",
      "metadata": {
        "id": "fa6cb0f6"
      },
      "outputs": [],
      "source": [
        "def main_menu():\n",
        "    print(\"🌤️ Welcome to Weather Advisor!\")\n",
        "    while True:\n",
        "        print(\"\\nPlease choose an option:\")\n",
        "        print(\"1 - View Today's Weather\")\n",
        "        print(\"2 - Ask a Weather Question\")\n",
        "        print(\"3 - Display Temperature Graph\")\n",
        "        print(\"4 - Display Rain/Precipitation Graph\")\n",
        "        print(\"5 - Display Combination of Temperature and Rain Graph\")\n",
        "        print(\"6 - Quit\")\n",
        "\n",
        "        choice = pyip.inputChoice(['1','2','3','4','5','6'], prompt=\"Enter choice (1-6): \")\n",
        "\n",
        "        if choice == '6':\n",
        "            print(\"Goodbye! 👋\")\n",
        "            break\n",
        "\n",
        "        location = pyip.inputStr(prompt=\"Enter location (city or Perth area): \")\n",
        "        weather_data = get_weather_data(location, forecast_days=3)\n",
        "        if not weather_data:\n",
        "            print(\"⚠ Could not retrieve weather data. Please try again.\")\n",
        "            continue\n",
        "\n",
        "        if choice == '1':\n",
        "            response = generate_weather_response({\n",
        "                'location': location,\n",
        "                'attribute': None,\n",
        "                'time_period': 'today'\n",
        "            }, weather_data)\n",
        "            print(response)\n",
        "\n",
        "        elif choice == '2':\n",
        "            question = pyip.inputStr(prompt=\"Ask your weather question: \")\n",
        "            parsed = parse_weather_question(question)\n",
        "            parsed['location'] = location\n",
        "            response = generate_weather_response(parsed, weather_data)\n",
        "            print(response)\n",
        "\n",
        "        elif choice == '3':\n",
        "            create_temperature_visualisation(weather_data)\n",
        "\n",
        "        elif choice == '4':\n",
        "            create_precipitation_visualisation(weather_data)\n",
        "\n",
        "        elif choice == '5':\n",
        "            plot_temp_rain_combo(weather_data)\n"
      ]
    },
    {
      "cell_type": "markdown",
      "id": "d643a53c",
      "metadata": {
        "id": "d643a53c"
      },
      "source": [
        "## 🧩 Main Application Logic"
      ]
    },
    {
      "cell_type": "code",
      "execution_count": 27,
      "id": "a9e2e805",
      "metadata": {
        "id": "a9e2e805"
      },
      "outputs": [],
      "source": [
        "\n",
        "def main_menu():\n",
        "    print(\"🌤️ Welcome to Weather Advisor!\")\n",
        "\n",
        "    while True:\n",
        "        print(\"\\nPlease choose an option:\")\n",
        "        print(\"1 - View Today's Weather\")\n",
        "        print(\"2 - Ask a Weather Question\")\n",
        "        print(\"3 - Display Temperature Graph\")\n",
        "        print(\"4 - Display Rain/Precipitation Graph\")\n",
        "        print(\"5 - Display Combination of Temperature and Rain Graph\")\n",
        "        print(\"6 - Chat with Weather Advisor (NLP)\")\n",
        "        print(\"7 - Quit\")\n",
        "\n",
        "        choice = pyip.inputChoice(['1','2','3','4','5','6','7'], prompt=\"Enter choice (1-7): \")\n",
        "\n",
        "        if choice == '7':\n",
        "            print(\"Goodbye! 👋\")\n",
        "            break\n",
        "\n",
        "\n",
        "        location = None\n",
        "        if choice != '6':\n",
        "            location = pyip.inputStr(prompt=\"Enter location (city or Perth area): \")\n",
        "\n",
        "\n",
        "        if choice == '1':\n",
        "            weather_data = get_weather_data(location, forecast_days=3)\n",
        "            if not weather_data:\n",
        "                print(\"⚠ Could not retrieve weather data. Please try again.\")\n",
        "                continue\n",
        "            response = generate_weather_response({\n",
        "                'location': location,\n",
        "                'attribute': None,\n",
        "                'time_period': 'today'\n",
        "            }, weather_data)\n",
        "            print(response)\n",
        "\n",
        "\n",
        "        elif choice == '2':\n",
        "            question = pyip.inputStr(prompt=\"Ask your weather question: \")\n",
        "            parsed = parse_weather_question(question)\n",
        "            parsed['location'] = location\n",
        "            weather_data = get_weather_data(location, forecast_days=3)\n",
        "            if not weather_data:\n",
        "                print(f\"⚠ Could not retrieve weather data for {location}.\")\n",
        "                continue\n",
        "            response = generate_weather_response(parsed, weather_data)\n",
        "            print(response)\n",
        "\n",
        "\n",
        "        elif choice == '3':\n",
        "            weather_data = get_weather_data(location, forecast_days=3)\n",
        "            if not weather_data:\n",
        "                print(f\"⚠ Could not retrieve weather data for {location}.\")\n",
        "                continue\n",
        "            create_temperature_visualisation(weather_data)\n",
        "\n",
        "\n",
        "        elif choice == '4':\n",
        "            weather_data = get_weather_data(location, forecast_days=3)\n",
        "            if not weather_data:\n",
        "                print(f\"⚠ Could not retrieve weather data for {location}.\")\n",
        "                continue\n",
        "            create_precipitation_visualisation(weather_data)\n",
        "\n",
        "\n",
        "        elif choice == '5':\n",
        "            weather_data = get_weather_data(location, forecast_days=3)\n",
        "            if not weather_data:\n",
        "                print(f\"⚠ Could not retrieve weather data for {location}.\")\n",
        "                continue\n",
        "            plot_temp_rain_combo(weather_data)\n",
        "\n",
        "\n",
        "        elif choice == '6':\n",
        "            print(\"🤖 Enter your question about the weather (type 'exit' to return to menu).\")\n",
        "            while True:\n",
        "                question = pyip.inputStr(prompt=\"You: \")\n",
        "                if question.lower() in [\"exit\", \"quit\"]:\n",
        "                    print(\"Returning to main menu...\")\n",
        "                    break\n",
        "                parsed = parse_weather_question_nlp(question)\n",
        "                weather_data = get_weather_data(parsed['location'], forecast_days=3)\n",
        "                if not weather_data:\n",
        "                    print(f\"⚠ Could not retrieve weather data for {parsed['location']}.\")\n",
        "                    continue\n",
        "                response = generate_weather_response(parsed, weather_data)\n",
        "                print(\"🤖\", response)\n"
      ]
    },
    {
      "cell_type": "markdown",
      "id": "fde44479",
      "metadata": {
        "id": "fde44479"
      },
      "source": [
        "## 🧪 Testing and Examples"
      ]
    },
    {
      "cell_type": "code",
      "execution_count": 28,
      "id": "4e573901",
      "metadata": {
        "id": "4e573901",
        "colab": {
          "base_uri": "https://localhost:8080/"
        },
        "outputId": "f759a299-028c-4b48-e3e3-9a998889f008"
      },
      "outputs": [
        {
          "output_type": "stream",
          "name": "stdout",
          "text": [
            "dict_keys(['current_condition', 'nearest_area', 'request', 'weather'])\n",
            "{'astronomy': [{'moon_illumination': '6', 'moon_phase': 'Waning Crescent', 'moonrise': '04:13 AM', 'moonset': '04:35 PM', 'sunrise': '05:33 AM', 'sunset': '06:31 PM'}], 'avgtempC': '16', 'avgtempF': '60', 'date': '2025-10-19', 'hourly': [{'DewPointC': '9', 'DewPointF': '49', 'FeelsLikeC': '16', 'FeelsLikeF': '61', 'HeatIndexC': '16', 'HeatIndexF': '61', 'WindChillC': '16', 'WindChillF': '61', 'WindGustKmph': '16', 'WindGustMiles': '10', 'chanceoffog': '0', 'chanceoffrost': '0', 'chanceofhightemp': '0', 'chanceofovercast': '84', 'chanceofrain': '81', 'chanceofremdry': '0', 'chanceofsnow': '0', 'chanceofsunshine': '0', 'chanceofthunder': '0', 'chanceofwindy': '0', 'cloudcover': '98', 'diffRad': '0.0', 'humidity': '64', 'precipInches': '0.0', 'precipMM': '0.0', 'pressure': '1010', 'pressureInches': '30', 'shortRad': '0.0', 'tempC': '16', 'tempF': '61', 'time': '0', 'uvIndex': '0', 'visibility': '10', 'visibilityMiles': '6', 'weatherCode': '176', 'weatherDesc': [{'value': 'Patchy rain nearby'}], 'weatherIconUrl': [{'value': ''}], 'winddir16Point': 'WSW', 'winddirDegree': '250', 'windspeedKmph': '11', 'windspeedMiles': '7'}, {'DewPointC': '9', 'DewPointF': '48', 'FeelsLikeC': '16', 'FeelsLikeF': '60', 'HeatIndexC': '16', 'HeatIndexF': '60', 'WindChillC': '16', 'WindChillF': '60', 'WindGustKmph': '13', 'WindGustMiles': '8', 'chanceoffog': '0', 'chanceoffrost': '0', 'chanceofhightemp': '0', 'chanceofovercast': '81', 'chanceofrain': '82', 'chanceofremdry': '0', 'chanceofsnow': '0', 'chanceofsunshine': '0', 'chanceofthunder': '0', 'chanceofwindy': '0', 'cloudcover': '79', 'diffRad': '0.0', 'humidity': '63', 'precipInches': '0.0', 'precipMM': '0.0', 'pressure': '1009', 'pressureInches': '30', 'shortRad': '0.0', 'tempC': '16', 'tempF': '60', 'time': '300', 'uvIndex': '0', 'visibility': '10', 'visibilityMiles': '6', 'weatherCode': '176', 'weatherDesc': [{'value': 'Patchy rain nearby'}], 'weatherIconUrl': [{'value': ''}], 'winddir16Point': 'WSW', 'winddirDegree': '258', 'windspeedKmph': '9', 'windspeedMiles': '6'}, {'DewPointC': '7', 'DewPointF': '44', 'FeelsLikeC': '15', 'FeelsLikeF': '60', 'HeatIndexC': '15', 'HeatIndexF': '60', 'WindChillC': '15', 'WindChillF': '60', 'WindGustKmph': '7', 'WindGustMiles': '5', 'chanceoffog': '0', 'chanceoffrost': '0', 'chanceofhightemp': '0', 'chanceofovercast': '94', 'chanceofrain': '0', 'chanceofremdry': '88', 'chanceofsnow': '0', 'chanceofsunshine': '16', 'chanceofthunder': '0', 'chanceofwindy': '0', 'cloudcover': '83', 'diffRad': '0.8', 'humidity': '56', 'precipInches': '0.0', 'precipMM': '0.0', 'pressure': '1009', 'pressureInches': '30', 'shortRad': '1.6', 'tempC': '15', 'tempF': '60', 'time': '600', 'uvIndex': '0', 'visibility': '10', 'visibilityMiles': '6', 'weatherCode': '119', 'weatherDesc': [{'value': 'Cloudy '}], 'weatherIconUrl': [{'value': ''}], 'winddir16Point': 'NNW', 'winddirDegree': '340', 'windspeedKmph': '5', 'windspeedMiles': '3'}, {'DewPointC': '9', 'DewPointF': '48', 'FeelsLikeC': '17', 'FeelsLikeF': '62', 'HeatIndexC': '17', 'HeatIndexF': '62', 'WindChillC': '17', 'WindChillF': '62', 'WindGustKmph': '21', 'WindGustMiles': '13', 'chanceoffog': '0', 'chanceoffrost': '0', 'chanceofhightemp': '0', 'chanceofovercast': '88', 'chanceofrain': '100', 'chanceofremdry': '0', 'chanceofsnow': '0', 'chanceofsunshine': '0', 'chanceofthunder': '0', 'chanceofwindy': '0', 'cloudcover': '55', 'diffRad': '100.2', 'humidity': '61', 'precipInches': '0.0', 'precipMM': '0.2', 'pressure': '1010', 'pressureInches': '30', 'shortRad': '176.5', 'tempC': '17', 'tempF': '62', 'time': '900', 'uvIndex': '4', 'visibility': '10', 'visibilityMiles': '6', 'weatherCode': '353', 'weatherDesc': [{'value': 'Light rain shower'}], 'weatherIconUrl': [{'value': ''}], 'winddir16Point': 'NNW', 'winddirDegree': '336', 'windspeedKmph': '16', 'windspeedMiles': '10'}, {'DewPointC': '10', 'DewPointF': '50', 'FeelsLikeC': '18', 'FeelsLikeF': '65', 'HeatIndexC': '18', 'HeatIndexF': '65', 'WindChillC': '18', 'WindChillF': '65', 'WindGustKmph': '34', 'WindGustMiles': '21', 'chanceoffog': '0', 'chanceoffrost': '0', 'chanceofhightemp': '0', 'chanceofovercast': '84', 'chanceofrain': '100', 'chanceofremdry': '0', 'chanceofsnow': '0', 'chanceofsunshine': '0', 'chanceofthunder': '0', 'chanceofwindy': '0', 'cloudcover': '52', 'diffRad': '231.4', 'humidity': '57', 'precipInches': '0.0', 'precipMM': '0.3', 'pressure': '1008', 'pressureInches': '30', 'shortRad': '561.4', 'tempC': '18', 'tempF': '65', 'time': '1200', 'uvIndex': '4', 'visibility': '10', 'visibilityMiles': '6', 'weatherCode': '353', 'weatherDesc': [{'value': 'Light rain shower'}], 'weatherIconUrl': [{'value': ''}], 'winddir16Point': 'W', 'winddirDegree': '279', 'windspeedKmph': '25', 'windspeedMiles': '15'}, {'DewPointC': '12', 'DewPointF': '53', 'FeelsLikeC': '16', 'FeelsLikeF': '61', 'HeatIndexC': '16', 'HeatIndexF': '61', 'WindChillC': '16', 'WindChillF': '61', 'WindGustKmph': '34', 'WindGustMiles': '21', 'chanceoffog': '0', 'chanceoffrost': '0', 'chanceofhightemp': '0', 'chanceofovercast': '93', 'chanceofrain': '100', 'chanceofremdry': '0', 'chanceofsnow': '0', 'chanceofsunshine': '0', 'chanceofthunder': '0', 'chanceofwindy': '0', 'cloudcover': '100', 'diffRad': '260.4', 'humidity': '75', 'precipInches': '0.0', 'precipMM': '0.7', 'pressure': '1009', 'pressureInches': '30', 'shortRad': '555.0', 'tempC': '16', 'tempF': '61', 'time': '1500', 'uvIndex': '5', 'visibility': '10', 'visibilityMiles': '6', 'weatherCode': '353', 'weatherDesc': [{'value': 'Light rain shower'}], 'weatherIconUrl': [{'value': ''}], 'winddir16Point': 'WSW', 'winddirDegree': '244', 'windspeedKmph': '27', 'windspeedMiles': '17'}, {'DewPointC': '10', 'DewPointF': '50', 'FeelsLikeC': '14', 'FeelsLikeF': '57', 'HeatIndexC': '14', 'HeatIndexF': '58', 'WindChillC': '14', 'WindChillF': '57', 'WindGustKmph': '15', 'WindGustMiles': '10', 'chanceoffog': '0', 'chanceoffrost': '0', 'chanceofhightemp': '0', 'chanceofovercast': '83', 'chanceofrain': '100', 'chanceofremdry': '0', 'chanceofsnow': '0', 'chanceofsunshine': '0', 'chanceofthunder': '0', 'chanceofwindy': '0', 'cloudcover': '75', 'diffRad': '97.7', 'humidity': '68', 'precipInches': '0.0', 'precipMM': '0.6', 'pressure': '1010', 'pressureInches': '30', 'shortRad': '193.5', 'tempC': '16', 'tempF': '61', 'time': '1800', 'uvIndex': '0', 'visibility': '10', 'visibilityMiles': '6', 'weatherCode': '116', 'weatherDesc': [{'value': 'Partly cloudy'}], 'weatherIconUrl': [{'value': ''}], 'winddir16Point': 'WSW', 'winddirDegree': '251', 'windspeedKmph': '11', 'windspeedMiles': '7'}, {'DewPointC': '8', 'DewPointF': '47', 'FeelsLikeC': '13', 'FeelsLikeF': '56', 'HeatIndexC': '14', 'HeatIndexF': '57', 'WindChillC': '13', 'WindChillF': '56', 'WindGustKmph': '20', 'WindGustMiles': '12', 'chanceoffog': '0', 'chanceoffrost': '0', 'chanceofhightemp': '0', 'chanceofovercast': '82', 'chanceofrain': '69', 'chanceofremdry': '0', 'chanceofsnow': '0', 'chanceofsunshine': '0', 'chanceofthunder': '0', 'chanceofwindy': '0', 'cloudcover': '77', 'diffRad': '0.0', 'humidity': '67', 'precipInches': '0.0', 'precipMM': '0.0', 'pressure': '1011', 'pressureInches': '30', 'shortRad': '0.0', 'tempC': '14', 'tempF': '57', 'time': '2100', 'uvIndex': '0', 'visibility': '10', 'visibilityMiles': '6', 'weatherCode': '176', 'weatherDesc': [{'value': 'Patchy rain nearby'}], 'weatherIconUrl': [{'value': ''}], 'winddir16Point': 'SW', 'winddirDegree': '230', 'windspeedKmph': '11', 'windspeedMiles': '7'}], 'maxtempC': '19', 'maxtempF': '66', 'mintempC': '14', 'mintempF': '57', 'sunHour': '10.8', 'totalSnow_cm': '0.0', 'uvIndex': '2'}\n"
          ]
        }
      ],
      "source": [
        "# Test fetching weather data for Perth for the next 3 days\n",
        "weather_perth = get_weather_data(\"Perth\", forecast_days=3)\n",
        "print(weather_perth.keys())\n",
        "print(weather_perth['weather'][0])\n"
      ]
    },
    {
      "cell_type": "code",
      "source": [
        "main_menu()"
      ],
      "metadata": {
        "colab": {
          "base_uri": "https://localhost:8080/",
          "height": 886
        },
        "id": "aKNSal0xPLws",
        "outputId": "9278d80d-250c-4da4-94a1-60ad958e41f3"
      },
      "id": "aKNSal0xPLws",
      "execution_count": 38,
      "outputs": [
        {
          "name": "stdout",
          "output_type": "stream",
          "text": [
            "🌤️ Welcome to Weather Advisor!\n",
            "\n",
            "Please choose an option:\n",
            "1 - View Today's Weather\n",
            "2 - Ask a Weather Question\n",
            "3 - Display Temperature Graph\n",
            "4 - Display Rain/Precipitation Graph\n",
            "5 - Display Combination of Temperature and Rain Graph\n",
            "6 - Chat with Weather Advisor (NLP)\n",
            "7 - Quit\n",
            "Enter choice (1-7): 3\n",
            "Enter location (city or Perth area): leederville\n"
          ]
        },
        {
          "output_type": "display_data",
          "data": {
            "text/plain": [
              "<Figure size 800x500 with 1 Axes>"
            ],
            "image/png": "[encoded data removed]"
          },
          "metadata": {}
        },
        {
          "output_type": "stream",
          "name": "stdout",
          "text": [
            "\n",
            "Please choose an option:\n",
            "1 - View Today's Weather\n",
            "2 - Ask a Weather Question\n",
            "3 - Display Temperature Graph\n",
            "4 - Display Rain/Precipitation Graph\n",
            "5 - Display Combination of Temperature and Rain Graph\n",
            "6 - Chat with Weather Advisor (NLP)\n",
            "7 - Quit\n",
            "Enter choice (1-7): 7\n",
            "Goodbye! 👋\n"
          ]
        }
      ]
    },
    {
      "cell_type": "markdown",
      "id": "d2885880",
      "metadata": {
        "id": "d2885880"
      },
      "source": [
        "## 🗂️ AI Prompting Log (Optional)\n",
        "Add markdown cells here summarising prompts used or link to AI conversations in the `ai-conversations/` folder."
      ]
    }
  ],
  "metadata": {
    "language_info": {
      "name": "python"
    },
    "colab": {
      "provenance": [],
      "include_colab_link": true
    },
    "kernelspec": {
      "name": "python3",
      "display_name": "Python 3"
    }
  },
  "nbformat": 4,
  "nbformat_minor": 5
}